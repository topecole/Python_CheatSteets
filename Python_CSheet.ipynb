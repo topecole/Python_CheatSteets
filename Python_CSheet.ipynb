{
 "cells": [
  {
   "cell_type": "markdown",
   "id": "cdbe4faa-c391-4d6f-abbb-04de5952a7d8",
   "metadata": {},
   "source": [
    "Data Extraction"
   ]
  },
  {
   "cell_type": "code",
   "execution_count": null,
   "id": "c261e61b-6347-4ed3-b5c6-27ef8aed6c3a",
   "metadata": {},
   "outputs": [],
   "source": [
    "import pandas as pd\n",
    "\n",
    "# Read CSV file into a DataFrame\n",
    "df = pd.read_csv('data.csv')\n",
    "\n",
    "# Read Excel file into a DataFrame\n",
    "df = pd.read_excel('data.xlsx')\n",
    "\n",
    "#Create a DataFrame from the clipboard\n",
    "df = pd.read_clipboard()\n",
    "\n",
    "#From SQL (using SQLAlchemy)\n",
    "from sqlalchemy import create_engine\n",
    "import pandas as pd\n",
    "\n",
    "# Create SQLAlchemy engine\n",
    "engine = create_engine('sqlite:///mydatabase.db')\n",
    "\n",
    "# Execute SQL query and load result into a DataFrame\n",
    "df = pd.read_sql_query('SELECT * FROM my_table', engine)\n",
    "\n",
    "#From JSON\n",
    "import json\n",
    "\n",
    "# Read JSON file\n",
    "with open('data.json') as f:\n",
    "    data = json.load(f)#\n",
    "    \n",
    "\n",
    "# From Data Lakes (e.g., AWS S3)\n",
    "import boto3\n",
    "import pandas as pd\n",
    "\n",
    "# Initialize S3 client\n",
    "s3 = boto3.client('s3')\n",
    "\n",
    "# Read CSV file from S3 bucket into a DataFrame\n",
    "bucket_name = 'my-bucket'\n",
    "key = 'data.csv'\n",
    "obj = s3.get_object(Bucket=bucket_name, Key=key)\n",
    "df = pd.read_csv(obj['Body'])\n"
   ]
  },
  {
   "cell_type": "markdown",
   "id": "3d856b12-e5ea-45be-bf88-a010afff9308",
   "metadata": {},
   "source": [
    "Data Transformation"
   ]
  },
  {
   "cell_type": "code",
   "execution_count": null,
   "id": "897296cb-ee09-4377-9687-6f3a67d3676c",
   "metadata": {},
   "outputs": [],
   "source": [
    "#Make a column the index\n",
    "pd.read_csv('ex2.csv',  index_col='column_name')"
   ]
  },
  {
   "cell_type": "code",
   "execution_count": null,
   "id": "ac49f804-ae5c-4258-969d-936024f7e1eb",
   "metadata": {},
   "outputs": [],
   "source": [
    "#Rename columns\n",
    "df = df.rename({'col one':'col_one', 'col two':'col_two'}, axis='columns')\n",
    "or\n",
    "df.columns = ['col_one', 'col_two']\n",
    "or\n",
    "df.columns = df.columns.str.replace(' ', '_')"
   ]
  },
  {
   "cell_type": "code",
   "execution_count": null,
   "id": "847d270c-d83f-439a-92bf-dd8564d96e60",
   "metadata": {},
   "outputs": [],
   "source": [
    "#Handling Missing Values:\n",
    "import pandas as pd\n",
    "\n",
    "# Drop rows with missing values\n",
    "df.dropna(inplace=True)\n",
    "\n",
    "# Fill missing values with a specific value\n",
    "df.fillna(0, inplace=True)\n",
    "\n",
    "# Way to fill null values with mean\n",
    "df['column_name'] = df['column_name'].fillna(df['column name'].mean())\n",
    "\n",
    "# Drop columns with missing values\n",
    "df.dropna(axis='columns') #drops ALL columns with any missing value. too broad.\n",
    "df.dropna(thresh=len(df)*0.9, axis='columns') #Only drops columns with more than 10% missing"
   ]
  },
  {
   "cell_type": "code",
   "execution_count": null,
   "id": "a15a5b4f-2f41-4f35-bfc8-a43382440608",
   "metadata": {},
   "outputs": [],
   "source": [
    "# Attribute count in column data\n",
    "df['coloumn_name'].value_counts()\n",
    "\n",
    "# Unique attributes in column data\n",
    "df['coloumn_name'].unique()"
   ]
  },
  {
   "cell_type": "code",
   "execution_count": null,
   "id": "7ff35a8c-1cea-4971-aa0b-5019546d7970",
   "metadata": {},
   "outputs": [],
   "source": [
    "# Drop a column in python\n",
    "# In pandas, drop( ) function is used to remove column(s).axis=1 tells Python that you want to apply function on columns instead of rows.\n",
    "df.drop(['column_name'], axis=1)\n",
    "\n",
    "#pandas drop all columns except certain ones\n",
    "df.drop(df.columns.difference(['column_name','column_name2']), axis=1)"
   ]
  },
  {
   "cell_type": "code",
   "execution_count": null,
   "id": "2000b101-5a88-4cc2-8856-0e2d2ec8b06c",
   "metadata": {},
   "outputs": [],
   "source": [
    "#Changing Data Types\n",
    "# Convert column to datetime\n",
    "df['date_column'] = pd.to_datetime(df['date_column'])\n",
    "\n",
    "# Convert column to categorical\n",
    "df['category_column'] = df['category_column'].astype('category')"
   ]
  },
  {
   "cell_type": "code",
   "execution_count": null,
   "id": "96817b29-ce8f-400b-9a44-37d82f13dc65",
   "metadata": {},
   "outputs": [],
   "source": [
    "#Adding/Removing Columns\n",
    "df['new_column'] = df['column1'] + df['column2']\n",
    "\n",
    "# Remove a column\n",
    "df.drop(columns=['column_to_remove'], inplace=True)"
   ]
  },
  {
   "cell_type": "code",
   "execution_count": null,
   "id": "180b56a1-3804-4f4c-a091-4dd9c4161d24",
   "metadata": {},
   "outputs": [],
   "source": [
    "# Group by a column and calculate mean, sum, etc.\n",
    "grouped_df = df.groupby('group_column').agg({'numeric_column': ['max', 'min', 'mean', 'sum']})\n",
    "\n",
    "grouped_df = df.groupby('group_column')['numeric_column'].sum()\n"
   ]
  },
  {
   "cell_type": "code",
   "execution_count": null,
   "id": "f7f2df11-2bb2-4e62-a1e6-efd76167adbd",
   "metadata": {},
   "outputs": [],
   "source": [
    "# Filter Data with Python\n",
    "df_less_than_20 = df[df['column_1'] < 20]\n",
    "#<  is less than, > is greater than\n",
    "# AND: & is \n",
    "\n",
    "df[(df['column_1'] >= -100) & (df['column_1'] <= 1000)]\n",
    "\n",
    "# OR: | \n",
    "# DOES EQUAL: ==\n",
    "# DOES NOT EQUAL: !=\n",
    "\n",
    "df[(df['column_1'] >= -100) & (df['column_1'] <= 1000)]\n",
    "df[(df['column_1'] < 0) | (df['column_1'] >= -100) & (df['column_1'] <= 100)]"
   ]
  },
  {
   "cell_type": "markdown",
   "id": "354b0f6f-798a-4d21-af39-91cdcd99b2e4",
   "metadata": {},
   "source": [
    "Data Analysis/Exploration"
   ]
  },
  {
   "cell_type": "code",
   "execution_count": null,
   "id": "e7ff86ad-ffe4-4f9f-8828-d335de79baa8",
   "metadata": {},
   "outputs": [],
   "source": [
    "# Descriptive statistics\n",
    "summary_stats = df.describe()\n",
    "\n",
    "# Correlation matrix\n",
    "correlation_matrix = df.corr()\n"
   ]
  },
  {
   "cell_type": "code",
   "execution_count": null,
   "id": "5a8dc660-d767-4fc2-ba62-7c066efde50e",
   "metadata": {},
   "outputs": [],
   "source": [
    "#Visualization (using Matplotlib or Seaborn)\n",
    "import matplotlib.pyplot as plt\n",
    "import seaborn as sns\n",
    "\n",
    "# Histogram\n",
    "plt.hist(df['column'], bins=10)\n",
    "plt.xlabel('Value')\n",
    "plt.ylabel('Frequency')\n",
    "plt.title('Histogram of Column')\n",
    "plt.show()\n",
    "\n",
    "# Scatter plot\n",
    "sns.scatterplot(data=df, x='x_column', y='y_column')\n",
    "plt.xlabel('X')\n",
    "plt.ylabel('Y')\n",
    "plt.title('Scatter Plot')\n",
    "plt.show()\n",
    "\n",
    "# Distribution plot (histogram with kernel density estimate)\n",
    "sns.displot(df['numeric_column'], kde=True)\n",
    "plt.title('Distribution of Numeric Column')\n",
    "plt.xlabel('Value')\n",
    "plt.ylabel('Density')\n",
    "plt.show()\n"
   ]
  },
  {
   "cell_type": "markdown",
   "id": "268e1709-6e2a-42d0-91e2-872aca6f29c6",
   "metadata": {},
   "source": [
    "Loading/Presentation"
   ]
  },
  {
   "cell_type": "code",
   "execution_count": null,
   "id": "cf8c714e-41cd-4bd9-ac7a-7f1089701572",
   "metadata": {},
   "outputs": [],
   "source": [
    "# Write DataFrame to CSV\n",
    "df.to_csv('output.csv', index=False)\n",
    "\n",
    "# Write DataFrame to Excel\n",
    "df.to_excel('output.xlsx', index=False)\n",
    "\n",
    "import plotly.express as px\n",
    "\n",
    "# Plotly Express bar chart\n",
    "fig = px.bar(df, x='category', y='value', color='group', barmode='group')\n",
    "fig.show()\n"
   ]
  }
 ],
 "metadata": {
  "kernelspec": {
   "display_name": "Python 3 (ipykernel)",
   "language": "python",
   "name": "python3"
  },
  "language_info": {
   "codemirror_mode": {
    "name": "ipython",
    "version": 3
   },
   "file_extension": ".py",
   "mimetype": "text/x-python",
   "name": "python",
   "nbconvert_exporter": "python",
   "pygments_lexer": "ipython3",
   "version": "3.9.7"
  }
 },
 "nbformat": 4,
 "nbformat_minor": 5
}
